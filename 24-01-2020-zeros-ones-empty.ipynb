{
 "cells": [
  {
   "cell_type": "code",
   "execution_count": 1,
   "metadata": {},
   "outputs": [
    {
     "data": {
      "text/plain": [
       "array([0., 0., 0., 0., 0., 0., 0., 0., 0., 0.])"
      ]
     },
     "execution_count": 1,
     "metadata": {},
     "output_type": "execute_result"
    }
   ],
   "source": [
    "import numpy as np\n",
    "import matplotlib.pyplot as plt\n",
    "np.zeros(10) # 1-D #it is used to create zeros"
   ]
  },
  {
   "cell_type": "code",
   "execution_count": 2,
   "metadata": {},
   "outputs": [
    {
     "data": {
      "text/plain": [
       "array([[0., 0., 0., 0., 0., 0., 0., 0., 0., 0.],\n",
       "       [0., 0., 0., 0., 0., 0., 0., 0., 0., 0.],\n",
       "       [0., 0., 0., 0., 0., 0., 0., 0., 0., 0.],\n",
       "       [0., 0., 0., 0., 0., 0., 0., 0., 0., 0.],\n",
       "       [0., 0., 0., 0., 0., 0., 0., 0., 0., 0.],\n",
       "       [0., 0., 0., 0., 0., 0., 0., 0., 0., 0.],\n",
       "       [0., 0., 0., 0., 0., 0., 0., 0., 0., 0.],\n",
       "       [0., 0., 0., 0., 0., 0., 0., 0., 0., 0.],\n",
       "       [0., 0., 0., 0., 0., 0., 0., 0., 0., 0.],\n",
       "       [0., 0., 0., 0., 0., 0., 0., 0., 0., 0.]])"
      ]
     },
     "execution_count": 2,
     "metadata": {},
     "output_type": "execute_result"
    }
   ],
   "source": [
    "np.zeros((10,10)) # 2-D"
   ]
  },
  {
   "cell_type": "code",
   "execution_count": 3,
   "metadata": {},
   "outputs": [
    {
     "data": {
      "text/plain": [
       "array([1., 1., 1., 1., 1., 1., 1., 1., 1., 1.])"
      ]
     },
     "execution_count": 3,
     "metadata": {},
     "output_type": "execute_result"
    }
   ],
   "source": [
    "np.ones(10) #it is used to create ones"
   ]
  },
  {
   "cell_type": "code",
   "execution_count": 4,
   "metadata": {},
   "outputs": [
    {
     "data": {
      "text/plain": [
       "array([[1., 1., 1., 1., 1., 1., 1., 1., 1., 1.],\n",
       "       [1., 1., 1., 1., 1., 1., 1., 1., 1., 1.],\n",
       "       [1., 1., 1., 1., 1., 1., 1., 1., 1., 1.],\n",
       "       [1., 1., 1., 1., 1., 1., 1., 1., 1., 1.],\n",
       "       [1., 1., 1., 1., 1., 1., 1., 1., 1., 1.],\n",
       "       [1., 1., 1., 1., 1., 1., 1., 1., 1., 1.],\n",
       "       [1., 1., 1., 1., 1., 1., 1., 1., 1., 1.],\n",
       "       [1., 1., 1., 1., 1., 1., 1., 1., 1., 1.],\n",
       "       [1., 1., 1., 1., 1., 1., 1., 1., 1., 1.],\n",
       "       [1., 1., 1., 1., 1., 1., 1., 1., 1., 1.]])"
      ]
     },
     "execution_count": 4,
     "metadata": {},
     "output_type": "execute_result"
    }
   ],
   "source": [
    "np.ones((10,10))"
   ]
  },
  {
   "cell_type": "code",
   "execution_count": 5,
   "metadata": {},
   "outputs": [
    {
     "data": {
      "text/plain": [
       "array([2.47479616e-316, 5.07565891e-317, 1.99108455e-321,             nan,\n",
       "       1.67416765e+243, 3.09835192e+169, 3.51280887e+183, 5.30582442e+199,\n",
       "       4.59239265e-072, 8.55063669e-072, 1.28140138e+213, 6.84979142e+180,\n",
       "       2.87771481e+159, 2.74865973e+214, 4.59239265e-072, 7.68528400e+170,\n",
       "       9.92713921e+247, 1.56027688e-259, 1.98102120e+161, 2.16874110e-027,\n",
       "       3.03383789e+180, 1.42854624e+248, 1.56027688e-259, 6.74104037e+199,\n",
       "       2.46928934e-027, 7.35151814e+223, 1.38208454e+267, 3.64469020e-086,\n",
       "       1.23065085e+171, 1.11929035e+200, 3.66914715e-062, 6.24019618e-085,\n",
       "       9.30350567e+199, 1.39675759e-259, 2.05132532e+161, 3.03331831e+180,\n",
       "       7.00745468e-077, 4.40571859e-085, 1.10901502e+200, 3.66962193e-062,\n",
       "       8.38916524e+217, 5.03872425e+175, 1.55934512e-259, 6.98026912e+199,\n",
       "       4.67661268e+252, 1.72447952e-259, 6.98026912e+199, 4.67661268e+252,\n",
       "       1.72447952e-259, 8.38916524e+217, 3.45039933e+175, 1.14738047e+253,\n",
       "       4.99955025e+228, 1.56270863e-033, 1.45552701e-094])"
      ]
     },
     "execution_count": 5,
     "metadata": {},
     "output_type": "execute_result"
    }
   ],
   "source": [
    "np.empty(55) # it is used to create empty"
   ]
  },
  {
   "cell_type": "code",
   "execution_count": 6,
   "metadata": {},
   "outputs": [
    {
     "data": {
      "text/plain": [
       "array([[6.91157162e-310, 6.91157162e-310, 2.54835740e-316, ...,\n",
       "        5.39333126e-317, 8.39911598e-323, 5.39333126e-317],\n",
       "       [2.12199579e-313, 1.81148456e-152, 5.39285696e-317, ...,\n",
       "        6.91156749e-310, 1.95674521e-316, 4.94065646e-324],\n",
       "       [9.88131292e-324, 2.54835977e-316, 0.00000000e+000, ...,\n",
       "        2.49009086e-321, 4.94065646e-323, 6.91156749e-310],\n",
       "       ...,\n",
       "       [2.64988828e+180, 6.01346953e-154, 8.88254271e+247, ...,\n",
       "        6.97302468e+252, 1.27337755e+232, 1.17567368e+214],\n",
       "       [3.67285431e+194, 6.21452776e+175, 5.29277566e+199, ...,\n",
       "        1.79805224e+044, 3.98220466e+209, 5.81236387e+180],\n",
       "       [2.31647114e-152, 1.53832069e+256, 1.94855599e+227, ...,\n",
       "        6.01347002e-154, 4.77093752e+180, 6.09215615e+247]])"
      ]
     },
     "execution_count": 6,
     "metadata": {},
     "output_type": "execute_result"
    }
   ],
   "source": [
    "np.empty((55,25))"
   ]
  },
  {
   "cell_type": "code",
   "execution_count": 7,
   "metadata": {},
   "outputs": [
    {
     "data": {
      "text/plain": [
       "array([[ 0,  1,  2,  3],\n",
       "       [ 4,  5,  6,  7],\n",
       "       [ 8,  9, 10, 11],\n",
       "       [12, 13, 14, 15],\n",
       "       [16, 17, 18, 19],\n",
       "       [20, 21, 22, 23]])"
      ]
     },
     "execution_count": 7,
     "metadata": {},
     "output_type": "execute_result"
    }
   ],
   "source": [
    "D = np.arange(24).reshape(6,4)\n",
    "D"
   ]
  },
  {
   "cell_type": "code",
   "execution_count": 8,
   "metadata": {},
   "outputs": [
    {
     "ename": "TypeError",
     "evalue": "only integer scalar arrays can be converted to a scalar index",
     "output_type": "error",
     "traceback": [
      "\u001b[0;31m---------------------------------------------------------------------------\u001b[0m",
      "\u001b[0;31mTypeError\u001b[0m                                 Traceback (most recent call last)",
      "\u001b[0;32m<ipython-input-8-f012708f81eb>\u001b[0m in \u001b[0;36m<module>\u001b[0;34m\u001b[0m\n\u001b[0;32m----> 1\u001b[0;31m \u001b[0mnp\u001b[0m\u001b[0;34m.\u001b[0m\u001b[0mzeros\u001b[0m\u001b[0;34m(\u001b[0m\u001b[0mD\u001b[0m\u001b[0;34m)\u001b[0m  \u001b[0;31m# just it is used to create zeros only not to convert into zeros\u001b[0m\u001b[0;34m\u001b[0m\u001b[0;34m\u001b[0m\u001b[0m\n\u001b[0m",
      "\u001b[0;31mTypeError\u001b[0m: only integer scalar arrays can be converted to a scalar index"
     ]
    }
   ],
   "source": [
    "np.zeros(D)  # just it is used to create zeros only not to convert into zeros"
   ]
  },
  {
   "cell_type": "code",
   "execution_count": 9,
   "metadata": {},
   "outputs": [
    {
     "data": {
      "text/plain": [
       "array([[0, 0, 0, 0],\n",
       "       [0, 0, 0, 0],\n",
       "       [0, 0, 0, 0],\n",
       "       [0, 0, 0, 0],\n",
       "       [0, 0, 0, 0],\n",
       "       [0, 0, 0, 0]])"
      ]
     },
     "execution_count": 9,
     "metadata": {},
     "output_type": "execute_result"
    }
   ],
   "source": [
    "np.zeros_like(D) # it is used to convert into zeros"
   ]
  },
  {
   "cell_type": "code",
   "execution_count": 10,
   "metadata": {},
   "outputs": [
    {
     "data": {
      "text/plain": [
       "array([[1, 1, 1, 1],\n",
       "       [1, 1, 1, 1],\n",
       "       [1, 1, 1, 1],\n",
       "       [1, 1, 1, 1],\n",
       "       [1, 1, 1, 1],\n",
       "       [1, 1, 1, 1]])"
      ]
     },
     "execution_count": 10,
     "metadata": {},
     "output_type": "execute_result"
    }
   ],
   "source": [
    "np.ones_like(D) #it is used to convert into ones"
   ]
  },
  {
   "cell_type": "code",
   "execution_count": 11,
   "metadata": {},
   "outputs": [
    {
     "data": {
      "text/plain": [
       "array([[       48036144,        49019344, 139890934314096,\n",
       "        139890934314160],\n",
       "       [139890934314224, 139890934314352, 139890934311992,\n",
       "        139891694527352],\n",
       "       [139891767929296, 139890934314608, 139890934312496,\n",
       "        139891734252992],\n",
       "       [139890934312608, 139890934312832, 139891737334592,\n",
       "        139890934329392],\n",
       "       [139890934315056, 139890934315184, 139890934326592,\n",
       "        139891733683312],\n",
       "       [139890934326664, 139890934326808, 139890934326952,\n",
       "        139890934270960]])"
      ]
     },
     "execution_count": 11,
     "metadata": {},
     "output_type": "execute_result"
    }
   ],
   "source": [
    "np.empty_like(D) #it is used to convert into empty"
   ]
  },
  {
   "cell_type": "code",
   "execution_count": 12,
   "metadata": {},
   "outputs": [
    {
     "data": {
      "text/plain": [
       "array([[ 0,  1,  2,  3],\n",
       "       [ 4,  5,  6,  7],\n",
       "       [ 8,  9, 10, 11],\n",
       "       [12, 13, 14, 15],\n",
       "       [16, 17, 18, 19],\n",
       "       [20, 21, 22, 23]])"
      ]
     },
     "execution_count": 12,
     "metadata": {},
     "output_type": "execute_result"
    }
   ],
   "source": [
    "D"
   ]
  },
  {
   "cell_type": "code",
   "execution_count": 13,
   "metadata": {},
   "outputs": [],
   "source": [
    "import seaborn as sns\n",
    "import numpy as np"
   ]
  },
  {
   "cell_type": "code",
   "execution_count": 14,
   "metadata": {},
   "outputs": [
    {
     "data": {
      "text/plain": [
       "array([ 2.37794805,  2.83666541, -3.3355489 , -2.94539275, -4.95882159,\n",
       "       -0.68671814,  0.99800958, -2.30730643, -2.57490911, -4.21163663,\n",
       "        0.72404218,  0.75844017, -1.93029679,  2.08114956, -0.69314182,\n",
       "       -3.23987197, -2.0846284 ,  0.22901072,  0.47752974, -3.07403335,\n",
       "        1.66654488,  2.72804986, -0.83375923,  4.62675531, -1.23119661,\n",
       "        0.19726769,  1.49544719, -3.33494092, -0.66674796, -1.86990175,\n",
       "        3.28677549,  3.34236267,  1.18235218,  2.36147495,  1.05037911,\n",
       "        0.85020758,  4.42720129, -0.21384627,  1.73172541, -1.86268715,\n",
       "       -0.79137091, -0.10518079,  0.85134938, -3.33215507, -4.07214734,\n",
       "        0.35937101,  0.94299177,  3.69482342,  0.66220251,  1.49627671,\n",
       "       -4.96736423, -3.83205726, -4.90778139, -1.73576827,  0.76859836,\n",
       "       -4.90591798, -3.80452172, -3.58282371, -3.51453472, -1.27324866,\n",
       "        0.86057952,  1.56192427,  2.48454073, -0.59450818,  1.04483908,\n",
       "        3.01110893, -4.09463999, -0.01029099,  2.4145081 ,  1.21946588,\n",
       "        2.06984479, -0.62534206,  0.06284933,  3.79344207,  0.27689272,\n",
       "       -4.3196171 ,  0.63772841, -4.10692051,  2.017204  , -2.2662572 ,\n",
       "        2.13129435, -1.69497372,  2.85753462, -2.56217333,  2.418708  ,\n",
       "        3.48062384, -0.07971763,  3.87381886,  4.17430327, -0.82978773,\n",
       "       -3.49226886,  2.40438597,  2.76807239, -1.68696047,  0.97849319,\n",
       "        2.22925009, -0.06509313,  2.3493695 , -2.02487379,  4.74396512,\n",
       "       -1.71669811,  4.68257675, -2.96559037,  4.00292578,  1.31718529,\n",
       "       -2.75494623, -2.30291391, -2.6252511 , -3.99711799,  1.9090664 ,\n",
       "        4.52226834, -2.25011802, -4.49853497,  4.81185484, -3.81535997,\n",
       "       -0.15065067, -1.17998979,  0.21431426,  1.87575458,  4.00330912,\n",
       "       -0.99499659, -3.16480177, -0.97651587, -1.5568813 ,  4.17084565,\n",
       "        1.85380043, -1.79900841, -1.02838124,  1.46163257,  2.97868212,\n",
       "        1.31036627,  2.1653375 , -0.29536836, -2.68002653, -1.97354933,\n",
       "        0.18198464, -3.25648275, -1.45064316, -3.18879386, -3.40420532,\n",
       "        3.82115462, -1.68699014,  1.27104346, -2.27570301,  4.65110186,\n",
       "        4.85377084, -0.46119158, -1.41429919,  4.65343097,  1.80965718,\n",
       "        4.71317855, -3.45061912,  4.47868331, -0.37947552, -0.1778942 ,\n",
       "       -3.90610964,  1.14207323, -1.32936408, -1.8419227 ,  2.83463559,\n",
       "       -2.8911928 ,  4.60505606,  2.80270321,  1.53283741, -1.67651901,\n",
       "        4.50898836,  1.84913046,  2.98262636, -4.55800644,  4.26910536,\n",
       "       -4.27544999,  4.98503545, -2.91443044, -3.08523368, -4.20560234,\n",
       "        1.12746935,  3.52841568,  3.58671851,  4.61546158, -1.4035717 ,\n",
       "        2.78311309,  4.32687227,  0.02241306, -2.58278179,  1.51058527,\n",
       "        1.68726214, -0.40664181,  4.51760921, -1.87476456,  4.95613552,\n",
       "       -2.86683475,  4.32207024,  2.98776504,  4.22580316,  3.39573707,\n",
       "        0.50814145,  2.02414512, -3.55844522,  4.17291922,  4.96777796])"
      ]
     },
     "execution_count": 14,
     "metadata": {},
     "output_type": "execute_result"
    }
   ],
   "source": [
    "D = np.random.uniform(-5,5,200)\n",
    "D"
   ]
  },
  {
   "cell_type": "code",
   "execution_count": 15,
   "metadata": {},
   "outputs": [
    {
     "data": {
      "text/plain": [
       "<matplotlib.axes._subplots.AxesSubplot at 0x7f3ad2a159b0>"
      ]
     },
     "execution_count": 15,
     "metadata": {},
     "output_type": "execute_result"
    },
    {
     "data": {
      "image/png": "[encoded data removed]",
      "text/plain": [
       "<Figure size 432x288 with 1 Axes>"
      ]
     },
     "metadata": {
      "needs_background": "light"
     },
     "output_type": "display_data"
    }
   ],
   "source": [
    "sns.kdeplot(D) # kde means kernal distribution estimation plot for uniform"
   ]
  },
  {
   "cell_type": "code",
   "execution_count": 16,
   "metadata": {},
   "outputs": [
    {
     "name": "stdout",
     "output_type": "stream",
     "text": [
      "[-4.49809344 -2.8066944  -0.89787682  3.90016207 -3.02252646 -1.70815505\n",
      " -0.22691219 -2.68680522 -0.20699177 -1.52732726 -3.23292829  3.99978376\n",
      " -2.66682816  1.98924455  0.56328952 -4.26779415 -1.93051078 -2.59379406\n",
      "  0.05240837 -1.79665362 -0.69319718  0.03072255  1.55544919  1.6080651\n",
      " -0.60580232  2.34162573  0.0078043   2.36879153  4.63144907 -4.59906695\n",
      " -0.14290638 -1.03403898 -3.88366528 -0.65801213  0.95312249  3.55865679\n",
      "  4.97612822 -2.87948731  1.44877209 -0.61473885 -4.63769199  4.12437876\n",
      " -3.59241365  3.85043589 -0.93226054 -4.50605447 -1.6185938  -1.3286093\n",
      "  1.20307137 -2.28921572  0.09522615  2.88150066  1.97107479  3.42794611\n",
      "  0.04272216  3.87143897  4.95572316 -2.3205454  -2.58218781 -3.03588137\n",
      "  1.98306249 -2.07373745 -4.9068182   1.32414432  0.61709106  3.74819428\n",
      " -4.99477886 -0.57887523  4.03730754 -3.10577114 -3.38080178 -0.03289323\n",
      " -1.90979292 -2.84073581 -1.1572346   4.89386842  1.27444739  1.73175756\n",
      " -4.79650745 -1.11733286 -4.2740765   2.22682851  3.97130177  0.6912631\n",
      "  3.45657436  2.39214191 -3.77064805 -1.18187471  0.90546935  4.93159518\n",
      " -1.06548649  1.99668043  1.29104284 -3.35446646 -1.48382442 -0.74753698\n",
      " -4.80253113 -0.62797384  0.61165245 -3.81484259  3.98021151  1.93049967\n",
      " -4.88577549 -1.50340936  4.66957859 -4.37078099  1.46429095  4.99576978\n",
      " -1.85415419  3.69996233 -4.43065051 -4.63360727  3.60228562 -0.48446479\n",
      " -2.74220853 -0.99170555  0.4355735  -1.79627979 -2.41907175  2.59289986\n",
      " -2.83974546  4.81898561 -2.27742322  3.49380267 -3.33655968 -2.30525124\n",
      " -1.27483436  4.60710559  0.88311421  0.60551972 -0.2570504  -0.78185737\n",
      " -4.38172208 -0.33662766  4.3179828   4.03021498 -1.88600043  0.01113082\n",
      "  2.73682892  4.69666892 -1.99665076 -2.6639989   4.16203154 -2.25874676\n",
      "  2.6656734   2.74201818  2.43255751  4.46588804  4.97710069  0.48713885\n",
      "  4.69290089  0.04572369 -3.21612792 -4.56021526 -3.61065536  3.15580885\n",
      " -1.55228753 -1.06600271 -2.72381886  0.60770726  2.5716006   1.2852046\n",
      "  4.78656846 -4.66724856 -3.25671338  0.60077283  0.36212208 -2.6465459\n",
      " -3.32823381  0.48792721 -0.63031247 -3.82109877 -0.6349275  -3.33535853\n",
      "  0.96897731  2.73634588 -3.30936048  2.49567245 -2.24972773  2.49711919\n",
      " -1.20074269  4.06330439  4.22974851  4.37380591  2.0557763  -2.9483227\n",
      "  0.25538241  3.90780855 -2.2785435  -4.23314127 -4.00850319 -0.04192503\n",
      " -1.5767185   0.87626439  2.2027573   2.56791164  3.2930517   1.06140117\n",
      " -4.27742987 -2.47496016]\n"
     ]
    },
    {
     "data": {
      "text/plain": [
       "<matplotlib.axes._subplots.AxesSubplot at 0x7f3ad09666d8>"
      ]
     },
     "execution_count": 16,
     "metadata": {},
     "output_type": "execute_result"
    },
    {
     "data": {
      "image/png": "[encoded data removed]",
      "text/plain": [
       "<Figure size 432x288 with 1 Axes>"
      ]
     },
     "metadata": {
      "needs_background": "light"
     },
     "output_type": "display_data"
    }
   ],
   "source": [
    "D1 = np.random.uniform(-5,5,200)\n",
    "print(D1)\n",
    "sns.kdeplot(D1)"
   ]
  },
  {
   "cell_type": "code",
   "execution_count": 17,
   "metadata": {},
   "outputs": [
    {
     "name": "stdout",
     "output_type": "stream",
     "text": [
      "[0.48810766 0.67124329 0.72616669 0.38470425 0.50244231 0.41792733\n",
      " 0.46048286 0.51590097 0.16066265 0.34673719 0.55055206 0.36515995\n",
      " 0.52308703 0.59377849 0.59818903 0.74693549 0.32835551 0.54837692\n",
      " 0.45436556 0.5703447  0.56049719 0.35000391 0.42591065 0.5718045\n",
      " 0.53670043 0.63044487 0.31564113 0.63224596 0.34074298 0.60236186\n",
      " 0.17572257 0.35594297 0.31697042 0.35502663 0.20811523 0.24483502\n",
      " 0.69157348 0.38153142 0.63676127 0.44990699 0.57463072 0.37163301\n",
      " 0.66300966 0.55551572 0.53700788 0.27470068 0.41478927 0.25543098\n",
      " 0.24164786 0.36934018 0.72385812 0.71533665 0.63648198 0.62408216\n",
      " 0.47777091 0.52052792 0.49807249 0.49722343 0.56789646 0.47727431\n",
      " 0.54090447 0.61743895 0.40130534 0.75095523 0.21361466 0.48824414\n",
      " 0.31537477 0.33459954 0.68976108 0.43409814 0.26409658 0.35167602\n",
      " 0.37273254 0.51838875 0.2042555  0.5065045  0.37247061 0.47476151\n",
      " 0.54920302 0.33822254 0.41895257 0.41320974 0.24041899 0.57195591\n",
      " 0.826439   0.66698251 0.41829141 0.47882691 0.51167389 0.35416237\n",
      " 0.32746812 0.62681379 0.36230695 0.4163118  0.61644302 0.37151179\n",
      " 0.36958936 0.4879049  0.37976799 0.42306636 0.50870426 0.25333687\n",
      " 0.32028304 0.53805139 0.63433222 0.59226634 0.33889462 0.12082237\n",
      " 0.76213476 0.7101488  0.32905314 0.29052058 0.60847136 0.65240419\n",
      " 0.53620838 0.55437965 0.29842801 0.69204534 0.56253109 0.60094569\n",
      " 0.78787003 0.51241287 0.40726278 0.5042497  0.38673091 0.76067833\n",
      " 0.82866351 0.53482171 0.55355385 0.43202914 0.58617737 0.17099725\n",
      " 0.42483156 0.66501414 0.47720644 0.41103784 0.71207912 0.64282859\n",
      " 0.47003871 0.31041954 0.6330533  0.64101922 0.37705641 0.56005889\n",
      " 0.64681825 0.73095245 0.47574375 0.74651508 0.21645042 0.43575924\n",
      " 0.71264041 0.47746244 0.41763177 0.43826447 0.78549145 0.46790907\n",
      " 0.37686148 0.76326884 0.85593679 0.72386758 0.58072558 0.50684227\n",
      " 0.55857178 0.84009018 0.48251865 0.77436181 0.82237005 0.42187712\n",
      " 0.21128096 0.28779813 0.43989564 0.28355409 0.38832058 0.5995347\n",
      " 0.67687195 0.83493523 0.53884697 0.48807928 0.43811574 0.59619847\n",
      " 0.47506456 0.50395512 0.62919424 0.51277808 0.5601889  0.36203848\n",
      " 0.41541156 0.49077956 0.57498042 0.62832032 0.48456742 0.50311094\n",
      " 0.79975831 0.57010201 0.70056721 0.35790167 0.48134556 0.41780892\n",
      " 0.42502655 0.43479695]\n"
     ]
    },
    {
     "data": {
      "text/plain": [
       "<matplotlib.axes._subplots.AxesSubplot at 0x7f3ad0280438>"
      ]
     },
     "execution_count": 17,
     "metadata": {},
     "output_type": "execute_result"
    },
    {
     "data": {
      "image/png": "[encoded data removed]",
      "text/plain": [
       "<Figure size 432x288 with 1 Axes>"
      ]
     },
     "metadata": {
      "needs_background": "light"
     },
     "output_type": "display_data"
    }
   ],
   "source": [
    "D2 = np.random.beta(5,5,200)\n",
    "print(D2)\n",
    "sns.kdeplot(D2)"
   ]
  },
  {
   "cell_type": "code",
   "execution_count": 18,
   "metadata": {},
   "outputs": [
    {
     "name": "stdout",
     "output_type": "stream",
     "text": [
      "[6 6 6 6 6 6 6 6 6 6 6 6 6 6 6 6 6 6 6 6 6 6 6 6 6 6 6 6 6 6 6 6 6 6 6 6 6\n",
      " 6 6 6 6 6 6 6 6 6 6 6 6 6 6 6 6 6 6 6 6 6 6 6 6 6 6 6 6 6 6 6 6 6 6 6 6 6\n",
      " 6 6 6 6 6 6 6 6 6 6 6 6 6 6 6 6 6 6 6 6 6 6 6 6 6 6 6 6 6 6 6 6 6 6 6 6 6\n",
      " 6 6 6 6 6 6 6 6 6 6 6 6 6 6 6 6 6 6 6 6 6 6 6 6 6 6 6 6 6 6 6 6 6 6 6 6 6\n",
      " 6 6 6 6 6 6 6 6 6 6 6 6 6 6 6 6 6 6 6 6 6 6 6 6 6 6 6 6 6 6 6 6 6 6 6 6 6\n",
      " 6 6 6 6 6 6 6 6 6 6 6 6 6 6 6]\n"
     ]
    },
    {
     "data": {
      "text/plain": [
       "<matplotlib.axes._subplots.AxesSubplot at 0x7f3ad02599e8>"
      ]
     },
     "execution_count": 18,
     "metadata": {},
     "output_type": "execute_result"
    },
    {
     "data": {
      "image/png": "[encoded data removed]",
      "text/plain": [
       "<Figure size 432x288 with 1 Axes>"
      ]
     },
     "metadata": {
      "needs_background": "light"
     },
     "output_type": "display_data"
    }
   ],
   "source": [
    "D3 = np.random.binomial(6,1,200)\n",
    "print(D3)\n",
    "sns.kdeplot(D3)"
   ]
  },
  {
   "cell_type": "code",
   "execution_count": 19,
   "metadata": {},
   "outputs": [
    {
     "data": {
      "text/plain": [
       "<matplotlib.axes._subplots.AxesSubplot at 0x7f3ad01afa90>"
      ]
     },
     "execution_count": 19,
     "metadata": {},
     "output_type": "execute_result"
    },
    {
     "data": {
      "image/png": "[encoded data removed]",
      "text/plain": [
       "<Figure size 432x288 with 1 Axes>"
      ]
     },
     "metadata": {
      "needs_background": "light"
     },
     "output_type": "display_data"
    }
   ],
   "source": [
    "sns.countplot(D)"
   ]
  },
  {
   "cell_type": "code",
   "execution_count": 20,
   "metadata": {},
   "outputs": [
    {
     "data": {
      "text/plain": [
       "(array([-0.2,  0. ,  0.2,  0.4,  0.6,  0.8,  1. ,  1.2]),\n",
       " <a list of 8 Text yticklabel objects>)"
      ]
     },
     "execution_count": 20,
     "metadata": {},
     "output_type": "execute_result"
    },
    {
     "data": {
      "image/png": "[encoded data removed]",
      "text/plain": [
       "<Figure size 432x288 with 1 Axes>"
      ]
     },
     "metadata": {
      "needs_background": "light"
     },
     "output_type": "display_data"
    }
   ],
   "source": [
    "import matplotlib.pyplot as plt\n",
    "a = np.random.rand(100)\n",
    "plt.plot(a)\n",
    "plt.xticks() \n",
    "plt.yticks()"
   ]
  },
  {
   "cell_type": "code",
   "execution_count": 21,
   "metadata": {},
   "outputs": [
    {
     "data": {
      "text/plain": [
       "array([[0, 1],\n",
       "       [2, 3],\n",
       "       [4, 5],\n",
       "       [6, 7],\n",
       "       [8, 9]])"
      ]
     },
     "execution_count": 21,
     "metadata": {},
     "output_type": "execute_result"
    }
   ],
   "source": [
    "a = np.arange(10).reshape(5,2)\n",
    "a"
   ]
  },
  {
   "cell_type": "code",
   "execution_count": 22,
   "metadata": {},
   "outputs": [
    {
     "data": {
      "text/plain": [
       "array([[2, 3],\n",
       "       [4, 5],\n",
       "       [8, 9]])"
      ]
     },
     "execution_count": 22,
     "metadata": {},
     "output_type": "execute_result"
    }
   ],
   "source": [
    "i = [1,2,-1]\n",
    "b = a[i]\n",
    "b"
   ]
  },
  {
   "cell_type": "code",
   "execution_count": 23,
   "metadata": {},
   "outputs": [
    {
     "data": {
      "text/plain": [
       "array(['a', 'b', 'c', 'd'], dtype='<U1')"
      ]
     },
     "execution_count": 23,
     "metadata": {},
     "output_type": "execute_result"
    }
   ],
   "source": [
    "a1 = np.array(['a','b','c','d'])\n",
    "a1"
   ]
  },
  {
   "cell_type": "code",
   "execution_count": 24,
   "metadata": {},
   "outputs": [
    {
     "data": {
      "text/plain": [
       "array(['b', 'c', 'c'], dtype='<U1')"
      ]
     },
     "execution_count": 24,
     "metadata": {},
     "output_type": "execute_result"
    }
   ],
   "source": [
    "i1 = [1,2,-2]\n",
    "c= a1[i1]\n",
    "c\n"
   ]
  },
  {
   "cell_type": "code",
   "execution_count": 25,
   "metadata": {},
   "outputs": [
    {
     "data": {
      "text/plain": [
       "array([['a', 'b'],\n",
       "       ['c', 'd']], dtype='<U1')"
      ]
     },
     "execution_count": 25,
     "metadata": {},
     "output_type": "execute_result"
    }
   ],
   "source": [
    "a1.reshape(2,2)"
   ]
  },
  {
   "cell_type": "code",
   "execution_count": 26,
   "metadata": {},
   "outputs": [
    {
     "data": {
      "text/plain": [
       "array([[  0, 255, 126],\n",
       "       [200, 132, 147],\n",
       "       [ 47,  78,  85]])"
      ]
     },
     "execution_count": 26,
     "metadata": {},
     "output_type": "execute_result"
    }
   ],
   "source": [
    "a2 = np.array([[0,255,126],[200,132,147],[47,78,85]])\n",
    "a2"
   ]
  },
  {
   "cell_type": "code",
   "execution_count": 27,
   "metadata": {},
   "outputs": [
    {
     "data": {
      "text/plain": [
       "<matplotlib.image.AxesImage at 0x7f3acfc85b00>"
      ]
     },
     "execution_count": 27,
     "metadata": {},
     "output_type": "execute_result"
    },
    {
     "data": {
      "image/png": "[encoded data removed]",
      "text/plain": [
       "<Figure size 432x288 with 1 Axes>"
      ]
     },
     "metadata": {
      "needs_background": "light"
     },
     "output_type": "display_data"
    }
   ],
   "source": [
    "plt.imshow(a2)"
   ]
  },
  {
   "cell_type": "code",
   "execution_count": 28,
   "metadata": {},
   "outputs": [
    {
     "data": {
      "text/plain": [
       "<matplotlib.image.AxesImage at 0x7f3acfc62710>"
      ]
     },
     "execution_count": 28,
     "metadata": {},
     "output_type": "execute_result"
    },
    {
     "data": {
      "image/png": "[encoded data removed]",
      "text/plain": [
       "<Figure size 432x288 with 1 Axes>"
      ]
     },
     "metadata": {
      "needs_background": "light"
     },
     "output_type": "display_data"
    }
   ],
   "source": [
    "c=a2[[1]]\n",
    "plt.imshow(c)"
   ]
  },
  {
   "cell_type": "code",
   "execution_count": null,
   "metadata": {},
   "outputs": [],
   "source": []
  },
  {
   "cell_type": "code",
   "execution_count": null,
   "metadata": {},
   "outputs": [],
   "source": []
  },
  {
   "cell_type": "code",
   "execution_count": null,
   "metadata": {},
   "outputs": [],
   "source": []
  },
  {
   "cell_type": "code",
   "execution_count": null,
   "metadata": {},
   "outputs": [],
   "source": []
  },
  {
   "cell_type": "code",
   "execution_count": null,
   "metadata": {},
   "outputs": [],
   "source": []
  },
  {
   "cell_type": "code",
   "execution_count": null,
   "metadata": {},
   "outputs": [],
   "source": []
  },
  {
   "cell_type": "code",
   "execution_count": null,
   "metadata": {},
   "outputs": [],
   "source": []
  },
  {
   "cell_type": "code",
   "execution_count": null,
   "metadata": {},
   "outputs": [],
   "source": []
  },
  {
   "cell_type": "code",
   "execution_count": null,
   "metadata": {},
   "outputs": [],
   "source": []
  },
  {
   "cell_type": "code",
   "execution_count": null,
   "metadata": {},
   "outputs": [],
   "source": []
  }
 ],
 "metadata": {
  "kernelspec": {
   "display_name": "Python 3",
   "language": "python",
   "name": "python3"
  },
  "language_info": {
   "codemirror_mode": {
    "name": "ipython",
    "version": 3
   },
   "file_extension": ".py",
   "mimetype": "text/x-python",
   "name": "python",
   "nbconvert_exporter": "python",
   "pygments_lexer": "ipython3",
   "version": "3.6.8"
  }
 },
 "nbformat": 4,
 "nbformat_minor": 2
}
